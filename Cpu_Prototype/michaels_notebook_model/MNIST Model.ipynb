{
 "cells": [
  {
   "cell_type": "markdown",
   "metadata": {},
   "source": [
    "# MNIST Model\n",
    "\n",
    "Helpful links: \n",
    "\n",
    "https://towardsdatascience.com/handwritten-digit-mnist-pytorch-977b5338e627\n",
    "\n",
    "https://nextjournal.com/gkoehler/pytorch-mnist\n",
    "\n",
    "https://github.com/pytorch/examples/blob/master/mnist/main.py"
   ]
  },
  {
   "cell_type": "code",
   "execution_count": 159,
   "metadata": {},
   "outputs": [],
   "source": [
    "import torch\n",
    "import torch.nn as nn\n",
    "import torch.optim as optim\n",
    "import torchvision\n",
    "import matplotlib.pyplot as plt\n",
    "import numpy as np\n",
    "from time import time\n",
    "from PIL import Image\n",
    "import cv2\n",
    "from skimage.measure import block_reduce"
   ]
  },
  {
   "cell_type": "markdown",
   "metadata": {},
   "source": [
    "## Preprocessing"
   ]
  },
  {
   "cell_type": "markdown",
   "metadata": {},
   "source": [
    "Function for preprocessing the images. Just performs threshold. Top 15% percent of values are \"white\", bottom 15% are \"black\". Thresholds somewhere in the middle."
   ]
  },
  {
   "cell_type": "code",
   "execution_count": 2,
   "metadata": {},
   "outputs": [],
   "source": [
    "def preprocess_data(x, noisy=False, blackwhite_factor=.15):\n",
    "    # Threshold\n",
    "    minn = np.min(x.detach().numpy())\n",
    "    maxx = np.max(x.detach().numpy())\n",
    "    rangee = maxx - minn\n",
    "    black_thresh = minn + blackwhite_factor * rangee # every below this is \"black\"\n",
    "    white_thresh = maxx - blackwhite_factor * rangee # every below this is \"white\"\n",
    "    threshold_factor = np.random.rand() if noisy else .5\n",
    "    threshold = threshold_factor * (white_thresh-black_thresh) + black_thresh\n",
    "    return (x > threshold).float()"
   ]
  },
  {
   "cell_type": "markdown",
   "metadata": {},
   "source": [
    "Transforms to be applied to the data before training. The transforms before the preprocessing make the data more variable, and therefore will make the model more robust but less accurate."
   ]
  },
  {
   "cell_type": "code",
   "execution_count": 3,
   "metadata": {},
   "outputs": [],
   "source": [
    "transforms = [\n",
    "    torchvision.transforms.RandomAffine((-15,15), translate=(.2,.2)),\n",
    "#     torchvision.transforms.RandomAffine((-30,30), translate=(.2,.2), scale=(.5,1.25), shear=0.),\n",
    "    torchvision.transforms.ToTensor(),\n",
    "    torchvision.transforms.Normalize((0.1307,), (0.3081,)), # mean and std. dev. of MNIST dataset\n",
    "    torchvision.transforms.Lambda(lambda x: preprocess_data(x, noisy=True))\n",
    "]"
   ]
  },
  {
   "cell_type": "markdown",
   "metadata": {},
   "source": [
    "Data loaders."
   ]
  },
  {
   "cell_type": "code",
   "execution_count": 4,
   "metadata": {},
   "outputs": [],
   "source": [
    "batch_size_train = 64\n",
    "batch_size_test = 1000\n",
    "\n",
    "train_loader = torch.utils.data.DataLoader(\n",
    "                    torchvision.datasets.MNIST('./data', train=True, download=True,\n",
    "                        transform=torchvision.transforms.Compose(transforms)),\n",
    "                    batch_size=batch_size_train, shuffle=True)\n",
    "\n",
    "test_loader = torch.utils.data.DataLoader(\n",
    "                    torchvision.datasets.MNIST('./data', train=False, download=True,\n",
    "                        transform=torchvision.transforms.Compose(transforms)),\n",
    "                    batch_size=batch_size_test, shuffle=True)"
   ]
  },
  {
   "cell_type": "markdown",
   "metadata": {},
   "source": [
    "Let's look at some examples of the transformed images:"
   ]
  },
  {
   "cell_type": "code",
   "execution_count": 5,
   "metadata": {},
   "outputs": [
    {
     "data": {
      "image/png": "[encoded data removed]",
      "text/plain": [
       "<Figure size 1080x1080 with 20 Axes>"
      ]
     },
     "metadata": {},
     "output_type": "display_data"
    }
   ],
   "source": [
    "examples = enumerate(test_loader)\n",
    "batch_idx, (example_data, example_targets) = next(examples)\n",
    "\n",
    "fig = plt.figure(figsize=(15,15))\n",
    "num_examples_rows = 5\n",
    "num_examples_cols = 4\n",
    "for r in range(num_examples_rows):\n",
    "    for c in range(num_examples_cols):\n",
    "        idx = r*num_examples_cols + c + 1\n",
    "        plt.subplot(num_examples_rows, num_examples_cols, idx)\n",
    "        plt.tight_layout()\n",
    "        plt.imshow(example_data[idx][0], cmap='gray', interpolation='none')\n",
    "        plt.title(\"Ground Truth: {}\".format(example_targets[idx]))\n",
    "        plt.xticks([])\n",
    "        plt.yticks([])"
   ]
  },
  {
   "cell_type": "markdown",
   "metadata": {},
   "source": [
    "## Model\n",
    "\n",
    "Create a neural net with PyTorch's classes. After training, we will pull the weights from each layer and compare the output of the PyTorch model with a \"bare-metal\" Numpy module."
   ]
  },
  {
   "cell_type": "code",
   "execution_count": 7,
   "metadata": {},
   "outputs": [],
   "source": [
    "def build_simple_neural_net(num_hidden_layers=2, hidden_layer_width=100, input_size=28*28, output_size=10):\n",
    "    modules = []\n",
    "    \n",
    "    for hidden_layer in range(num_hidden_layers):\n",
    "        # Hidden layer\n",
    "        if hidden_layer == 0: # first layer\n",
    "            modules.append(nn.Linear(input_size, hidden_layer_width))\n",
    "        else:\n",
    "            modules.append(nn.Linear(hidden_layer_width, hidden_layer_width))\n",
    "        # ReLU\n",
    "        modules.append(nn.ReLU())\n",
    "        \n",
    "    # Output layer\n",
    "    modules.append(nn.Linear(hidden_layer_width, output_size))\n",
    "    \n",
    "    # Softmax\n",
    "    modules.append(nn.LogSoftmax(dim=1))\n",
    "    \n",
    "    return nn.Sequential(*modules)"
   ]
  },
  {
   "cell_type": "markdown",
   "metadata": {},
   "source": [
    "## Training\n",
    "Create a model and train it on the preprocessed data."
   ]
  },
  {
   "cell_type": "markdown",
   "metadata": {},
   "source": [
    "Function to run 1 training epoch over all training data in the loader:"
   ]
  },
  {
   "cell_type": "code",
   "execution_count": 8,
   "metadata": {},
   "outputs": [],
   "source": [
    "def train(model, optimizer, criterion, train_loader):\n",
    "    model.train()\n",
    "    cumulative_loss = 0\n",
    "    for images, labels in train_loader:\n",
    "        images = images.view(images.shape[0], -1) # flatten image into 1D vector\n",
    "        optimizer.zero_grad()\n",
    "        output = model(images)\n",
    "        loss = criterion(output, labels)\n",
    "        loss.backward()\n",
    "        optimizer.step()\n",
    "        cumulative_loss += loss.item()\n",
    "    return cumulative_loss / len(train_loader)"
   ]
  },
  {
   "cell_type": "markdown",
   "metadata": {},
   "source": [
    "Function to run an accuracy test over all data in the loader:"
   ]
  },
  {
   "cell_type": "code",
   "execution_count": 9,
   "metadata": {},
   "outputs": [],
   "source": [
    "def test(model, test_loader):\n",
    "    model.eval()\n",
    "    correct_count, all_count = 0, 0\n",
    "    for images, labels in test_loader:\n",
    "        for i in range(len(labels)):\n",
    "            image = images[i].view(1, 784)\n",
    "            with torch.no_grad():\n",
    "                log_probs = model(image)\n",
    "            probs_tnsr = torch.exp(log_probs)\n",
    "            probabilities = list(probs_tnsr.numpy()[0])\n",
    "            pred_label = probabilities.index(max(probabilities))\n",
    "            true_label = labels.numpy()[i]\n",
    "            if(true_label == pred_label):\n",
    "                correct_count += 1\n",
    "            all_count += 1\n",
    "    acc = 100 * correct_count / all_count # model accuracy\n",
    "    return acc, correct_count, all_count"
   ]
  },
  {
   "cell_type": "markdown",
   "metadata": {},
   "source": [
    "Construct a model, then train. The model will be saved to a file."
   ]
  },
  {
   "cell_type": "code",
   "execution_count": 10,
   "metadata": {},
   "outputs": [
    {
     "name": "stdout",
     "output_type": "stream",
     "text": [
      "Did not load a model.\n",
      "Epoch 1...\n",
      "\tTraining Loss: 1.7635\n",
      "\tTraining Error: 59.75% (35852/60000)\n",
      "\tTesting Error : 60.49% (6049/10000)\n",
      "Epoch 2...\n"
     ]
    },
    {
     "name": "stderr",
     "output_type": "stream",
     "text": [
      "/Users/michaelstecklein/School/AdvancedMCUSystems/finalproject/nn_modelling/venv/lib/python3.7/site-packages/torch/serialization.py:292: UserWarning: Couldn't retrieve source code for container of type Sequential. It won't be checked for correctness upon loading.\n",
      "  \"type \" + obj.__name__ + \". It won't be checked \"\n",
      "/Users/michaelstecklein/School/AdvancedMCUSystems/finalproject/nn_modelling/venv/lib/python3.7/site-packages/torch/serialization.py:292: UserWarning: Couldn't retrieve source code for container of type Linear. It won't be checked for correctness upon loading.\n",
      "  \"type \" + obj.__name__ + \". It won't be checked \"\n",
      "/Users/michaelstecklein/School/AdvancedMCUSystems/finalproject/nn_modelling/venv/lib/python3.7/site-packages/torch/serialization.py:292: UserWarning: Couldn't retrieve source code for container of type ReLU. It won't be checked for correctness upon loading.\n",
      "  \"type \" + obj.__name__ + \". It won't be checked \"\n",
      "/Users/michaelstecklein/School/AdvancedMCUSystems/finalproject/nn_modelling/venv/lib/python3.7/site-packages/torch/serialization.py:292: UserWarning: Couldn't retrieve source code for container of type LogSoftmax. It won't be checked for correctness upon loading.\n",
      "  \"type \" + obj.__name__ + \". It won't be checked \"\n"
     ]
    },
    {
     "name": "stdout",
     "output_type": "stream",
     "text": [
      "\tTraining Loss: 1.0407\n",
      "\tTraining Error: 72.43% (43460/60000)\n",
      "\tTesting Error : 73.37% (7337/10000)\n",
      "Epoch 3...\n",
      "\tTraining Loss: 0.7950\n",
      "\tTraining Error: 78.31% (46987/60000)\n",
      "\tTesting Error : 79.39% (7939/10000)\n",
      "Epoch 4...\n",
      "\tTraining Loss: 0.6651\n",
      "\tTraining Error: 81.71% (49025/60000)\n",
      "\tTesting Error : 82.43% (8243/10000)\n",
      "Epoch 5...\n",
      "\tTraining Loss: 0.5773\n",
      "\tTraining Error: 83.92% (50350/60000)\n",
      "\tTesting Error : 84.18% (8418/10000)\n",
      "Epoch 6...\n",
      "\tTraining Loss: 0.5150\n",
      "\tTraining Error: 85.47% (51283/60000)\n",
      "\tTesting Error : 86.59% (8659/10000)\n",
      "Epoch 7...\n",
      "\tTraining Loss: 0.4741\n",
      "\tTraining Error: 86.38% (51827/60000)\n",
      "\tTesting Error : 86.52% (8652/10000)\n",
      "Epoch 8...\n",
      "\tTraining Loss: 0.4488\n",
      "\tTraining Error: 87.17% (52305/60000)\n",
      "\tTesting Error : 87.34% (8734/10000)\n",
      "Epoch 9...\n",
      "\tTraining Loss: 0.4190\n",
      "\tTraining Error: 88.03% (52818/60000)\n",
      "\tTesting Error : 88.78% (8878/10000)\n",
      "Epoch 10...\n",
      "\tTraining Loss: 0.3984\n",
      "\tTraining Error: 88.45% (53070/60000)\n",
      "\tTesting Error : 89.12% (8912/10000)\n",
      "Epoch 11...\n",
      "\tTraining Loss: 0.3868\n",
      "\tTraining Error: 88.78% (53271/60000)\n",
      "\tTesting Error : 89.64% (8964/10000)\n",
      "Epoch 12...\n",
      "\tTraining Loss: 0.3744\n",
      "\tTraining Error: 89.24% (53544/60000)\n",
      "\tTesting Error : 89.40% (8940/10000)\n",
      "Epoch 13...\n",
      "\tTraining Loss: 0.3586\n",
      "\tTraining Error: 89.87% (53924/60000)\n",
      "\tTesting Error : 90.05% (9005/10000)\n",
      "Epoch 14...\n",
      "\tTraining Loss: 0.3489\n",
      "\tTraining Error: 90.01% (54006/60000)\n",
      "\tTesting Error : 90.41% (9041/10000)\n",
      "Epoch 15...\n",
      "\tTraining Loss: 0.3359\n",
      "\tTraining Error: 90.20% (54120/60000)\n",
      "\tTesting Error : 90.96% (9096/10000)\n",
      "Epoch 16...\n",
      "\tTraining Loss: 0.3273\n",
      "\tTraining Error: 90.41% (54245/60000)\n",
      "\tTesting Error : 90.68% (9068/10000)\n",
      "Epoch 17...\n",
      "\tTraining Loss: 0.3190\n",
      "\tTraining Error: 90.86% (54513/60000)\n",
      "\tTesting Error : 91.12% (9112/10000)\n",
      "Epoch 18...\n",
      "\tTraining Loss: 0.3098\n",
      "\tTraining Error: 90.94% (54563/60000)\n",
      "\tTesting Error : 91.55% (9155/10000)\n",
      "Epoch 19...\n",
      "\tTraining Loss: 0.3030\n",
      "\tTraining Error: 91.13% (54677/60000)\n",
      "\tTesting Error : 91.64% (9164/10000)\n",
      "Epoch 20...\n",
      "\tTraining Loss: 0.2963\n",
      "\tTraining Error: 91.23% (54738/60000)\n",
      "\tTesting Error : 91.77% (9177/10000)\n",
      "Epoch 21...\n",
      "\tTraining Loss: 0.2902\n",
      "\tTraining Error: 91.45% (54873/60000)\n",
      "\tTesting Error : 91.99% (9199/10000)\n",
      "Epoch 22...\n",
      "\tTraining Loss: 0.2839\n",
      "\tTraining Error: 91.38% (54825/60000)\n",
      "\tTesting Error : 92.05% (9205/10000)\n",
      "Epoch 23...\n",
      "\tTraining Loss: 0.2820\n",
      "\tTraining Error: 91.92% (55149/60000)\n",
      "\tTesting Error : 92.34% (9234/10000)\n",
      "Epoch 24...\n",
      "\tTraining Loss: 0.2769\n",
      "\tTraining Error: 91.95% (55173/60000)\n",
      "\tTesting Error : 92.39% (9239/10000)\n",
      "Epoch 25...\n",
      "\tTraining Loss: 0.2724\n",
      "\tTraining Error: 91.83% (55098/60000)\n",
      "\tTesting Error : 91.82% (9182/10000)\n",
      "Epoch 26...\n",
      "\tTraining Loss: 0.2672\n",
      "\tTraining Error: 92.16% (55296/60000)\n",
      "\tTesting Error : 92.13% (9213/10000)\n",
      "Epoch 27...\n",
      "\tTraining Loss: 0.2668\n",
      "\tTraining Error: 92.21% (55328/60000)\n",
      "\tTesting Error : 92.34% (9234/10000)\n",
      "Epoch 28...\n",
      "\tTraining Loss: 0.2584\n",
      "\tTraining Error: 92.25% (55347/60000)\n",
      "\tTesting Error : 92.49% (9249/10000)\n",
      "Epoch 29...\n",
      "\tTraining Loss: 0.2516\n",
      "\tTraining Error: 92.18% (55306/60000)\n",
      "\tTesting Error : 92.68% (9268/10000)\n",
      "Epoch 30...\n",
      "\tTraining Loss: 0.2516\n",
      "\tTraining Error: 92.75% (55647/60000)\n",
      "\tTesting Error : 92.92% (9292/10000)\n",
      "Epoch 31...\n",
      "\tTraining Loss: 0.2468\n",
      "\tTraining Error: 92.72% (55632/60000)\n",
      "\tTesting Error : 92.99% (9299/10000)\n",
      "Epoch 32...\n",
      "\tTraining Loss: 0.2461\n",
      "\tTraining Error: 92.82% (55690/60000)\n",
      "\tTesting Error : 93.33% (9333/10000)\n",
      "Epoch 33...\n",
      "\tTraining Loss: 0.2394\n",
      "\tTraining Error: 92.84% (55706/60000)\n",
      "\tTesting Error : 92.80% (9280/10000)\n",
      "Epoch 34...\n",
      "\tTraining Loss: 0.2372\n",
      "\tTraining Error: 93.05% (55827/60000)\n",
      "\tTesting Error : 93.18% (9318/10000)\n",
      "Epoch 35...\n",
      "\tTraining Loss: 0.2331\n",
      "\tTraining Error: 92.97% (55780/60000)\n",
      "\tTesting Error : 93.42% (9342/10000)\n",
      "Epoch 36...\n",
      "\tTraining Loss: 0.2314\n",
      "\tTraining Error: 93.12% (55875/60000)\n",
      "\tTesting Error : 93.40% (9340/10000)\n",
      "Epoch 37...\n",
      "\tTraining Loss: 0.2263\n",
      "\tTraining Error: 93.14% (55884/60000)\n",
      "\tTesting Error : 93.47% (9347/10000)\n",
      "Epoch 38...\n",
      "\tTraining Loss: 0.2255\n",
      "\tTraining Error: 93.35% (56009/60000)\n",
      "\tTesting Error : 93.57% (9357/10000)\n",
      "Epoch 39...\n",
      "\tTraining Loss: 0.2188\n",
      "\tTraining Error: 93.38% (56029/60000)\n",
      "\tTesting Error : 94.00% (9400/10000)\n",
      "Epoch 40...\n",
      "\tTraining Loss: 0.2214\n",
      "\tTraining Error: 93.39% (56031/60000)\n",
      "\tTesting Error : 93.82% (9382/10000)\n",
      "Epoch 41...\n",
      "\tTraining Loss: 0.2184\n",
      "\tTraining Error: 93.48% (56086/60000)\n",
      "\tTesting Error : 93.61% (9361/10000)\n",
      "Epoch 42...\n",
      "\tTraining Loss: 0.2166\n",
      "\tTraining Error: 93.66% (56198/60000)\n",
      "\tTesting Error : 93.82% (9382/10000)\n",
      "Epoch 43...\n",
      "\tTraining Loss: 0.2164\n",
      "\tTraining Error: 93.46% (56074/60000)\n",
      "\tTesting Error : 93.54% (9354/10000)\n",
      "Epoch 44...\n",
      "\tTraining Loss: 0.2139\n",
      "\tTraining Error: 93.66% (56197/60000)\n",
      "\tTesting Error : 93.84% (9384/10000)\n",
      "Epoch 45...\n",
      "\tTraining Loss: 0.2106\n",
      "\tTraining Error: 93.50% (56102/60000)\n",
      "\tTesting Error : 94.02% (9402/10000)\n",
      "Epoch 46...\n",
      "\tTraining Loss: 0.2083\n",
      "\tTraining Error: 93.78% (56269/60000)\n",
      "\tTesting Error : 93.98% (9398/10000)\n",
      "Epoch 47...\n",
      "\tTraining Loss: 0.2062\n",
      "\tTraining Error: 93.73% (56236/60000)\n",
      "\tTesting Error : 93.74% (9374/10000)\n",
      "Epoch 48...\n",
      "\tTraining Loss: 0.2057\n",
      "\tTraining Error: 93.83% (56296/60000)\n",
      "\tTesting Error : 94.11% (9411/10000)\n",
      "Epoch 49...\n",
      "\tTraining Loss: 0.1998\n",
      "\tTraining Error: 93.88% (56329/60000)\n",
      "\tTesting Error : 94.31% (9431/10000)\n",
      "Epoch 50...\n",
      "\tTraining Loss: 0.2023\n",
      "\tTraining Error: 94.17% (56500/60000)\n",
      "\tTesting Error : 94.08% (9408/10000)\n"
     ]
    }
   ],
   "source": [
    "model = build_simple_neural_net(num_hidden_layers=2, hidden_layer_width=200)\n",
    "num_epochs = 50\n",
    "model_path = \"./data/model.pt\"\n",
    "optimizer = optim.Adam(model.parameters(), lr=0.0001)\n",
    "criterion = nn.NLLLoss()\n",
    "\n",
    "# NOTE: the model instance from above will be overwritten if a model exists at the provided path\n",
    "try:\n",
    "    model = torch.load(model_path)\n",
    "except:\n",
    "    print(\"Did not load a model.\")\n",
    "\n",
    "training_results = []\n",
    "testing_results = []\n",
    "for epoch in range(1, num_epochs+1):\n",
    "    print(\"Epoch %d...\" % epoch)\n",
    "    avg_loss = train(model, optimizer, criterion, train_loader)\n",
    "    percent_correct_train, num_correct_train, count_train = test(model, train_loader)\n",
    "    percent_correct_test, num_correct_test, count_test  = test(model, test_loader)\n",
    "    training_results.append(percent_correct_train)\n",
    "    testing_results.append(percent_correct_test)\n",
    "    print(\"\\tTraining Loss: %.4f\" % avg_loss)\n",
    "    print(\"\\tTraining Error: %.2f%% (%d/%d)\" % (percent_correct_train, num_correct_train, count_train))\n",
    "    print(\"\\tTesting Error : %.2f%% (%d/%d)\" % (percent_correct_test, num_correct_test, count_test))\n",
    "    torch.save(model, model_path)"
   ]
  },
  {
   "cell_type": "markdown",
   "metadata": {},
   "source": [
    "Plot the training/testing results across epochs:"
   ]
  },
  {
   "cell_type": "code",
   "execution_count": 11,
   "metadata": {
    "scrolled": false
   },
   "outputs": [
    {
     "data": {
      "image/png": "[encoded data removed]",
      "text/plain": [
       "<Figure size 864x432 with 1 Axes>"
      ]
     },
     "metadata": {
      "needs_background": "light"
     },
     "output_type": "display_data"
    }
   ],
   "source": [
    "fig = plt.figure(figsize=(12,6))\n",
    "plt.plot(training_results, label=\"Training\")\n",
    "plt.plot(testing_results, label=\"Testing\")\n",
    "plt.legend()\n",
    "plt.xlabel(\"Epoch\")\n",
    "plt.ylabel(\"Accuracy\")\n",
    "plt.show()"
   ]
  },
  {
   "cell_type": "markdown",
   "metadata": {},
   "source": [
    "#### Below are some model and transform configurations and their accuracy after training:"
   ]
  },
  {
   "cell_type": "markdown",
   "metadata": {},
   "source": [
    "##### 2-layer, 128 and 64 widths, 90% accuracy:\n",
    "    torchvision.transforms.RandomAffine((-15,15), translate=(.2,.2)),\n",
    "    torchvision.transforms.ToTensor(),\n",
    "    torchvision.transforms.Normalize((0.1307,), (0.3081,)), # mean and std. dev. of MNIST dataset\n",
    "    torchvision.transforms.Lambda(lambda x: preprocess_data(x, noisy=True))"
   ]
  },
  {
   "cell_type": "markdown",
   "metadata": {},
   "source": [
    "##### 2-layer, 200 widths, 94% accuracy:\n",
    "    torchvision.transforms.RandomAffine((-15,15), translate=(.2,.2)),\n",
    "    torchvision.transforms.ToTensor(),\n",
    "    torchvision.transforms.Normalize((0.1307,), (0.3081,)), # mean and std. dev. of MNIST dataset\n",
    "    torchvision.transforms.Lambda(lambda x: preprocess_data(x, noisy=True))"
   ]
  },
  {
   "cell_type": "markdown",
   "metadata": {},
   "source": [
    "## Numpy Evaluation\n",
    "Extract the trained weights from the PyTorch model, format them as Numpy arrays, and validate the outputs of Numpy operations with the PyTorch model."
   ]
  },
  {
   "cell_type": "markdown",
   "metadata": {},
   "source": [
    "Extract weights as Numpy matrices from PyTorch model."
   ]
  },
  {
   "cell_type": "code",
   "execution_count": 46,
   "metadata": {},
   "outputs": [],
   "source": [
    "model_path = \"./data/model.pt\"\n",
    "model = torch.load(model_path)\n",
    "\n",
    "\n",
    "# Hidden layers' weights/biases\n",
    "hidden_layer_weights = []\n",
    "hidden_layer_biases = []\n",
    "num_hidden_layers = 0 # count of hidden layers\n",
    "# Output layer's weight/bias\n",
    "output_layer_weight = None\n",
    "output_layer_bias = None\n",
    "\n",
    "\n",
    "# Parse PyTorch model\n",
    "num_modules = len(model)\n",
    "i = 0\n",
    "while i < num_modules-1:\n",
    "    module = model[i]; i += 1\n",
    "    next_module = model[i]; i += 1\n",
    "    \n",
    "    # Expect a linear module first\n",
    "    assert isinstance(module, nn.modules.linear.Linear), \"Expected Linear module\"\n",
    "    \n",
    "    # Make sure following module is ReLU or LogSoftmax\n",
    "    assert isinstance(next_module, nn.modules.activation.LogSoftmax) or \\\n",
    "            isinstance(next_module, nn.modules.activation.ReLU), \"Expected ReLU or LogSoftmax module\"\n",
    "    \n",
    "    # Make sure LogSoftmax is only at the end\n",
    "    if isinstance(next_module, nn.modules.activation.LogSoftmax):\n",
    "        assert i >= num_modules-1\n",
    "    \n",
    "    # Make sure last model is LogSoftmax\n",
    "    if i == num_modules-1:\n",
    "        assert isinstance(next_module, nn.modules.activation.LogSoftmax), \"LogSoftmax should be last module.\"\n",
    "    \n",
    "    # Parse Linear module\n",
    "    weight = module.weight.detach().numpy()\n",
    "    bias = module.bias.detach().numpy()\n",
    "    if isinstance(next_module, nn.modules.activation.ReLU): # is hidden layer\n",
    "        hidden_layer_weights.append(weight)\n",
    "        hidden_layer_biases.append(bias)\n",
    "        num_hidden_layers += 1\n",
    "    else: # is output layer\n",
    "        output_layer_weight = weight\n",
    "        output_layer_bias = bias"
   ]
  },
  {
   "cell_type": "markdown",
   "metadata": {},
   "source": [
    "Evaluate neural net with Numpy functions and compare to output of PyTorch neural net model."
   ]
  },
  {
   "cell_type": "code",
   "execution_count": 47,
   "metadata": {},
   "outputs": [],
   "source": [
    "def evaluate_numpy_nn(x):\n",
    "    # Hidden layers\n",
    "    for h in range(num_hidden_layers):\n",
    "        x = np.matmul(hidden_layer_weights[h], x) + hidden_layer_biases[h] # H: W*x + b\n",
    "        x = np.maximum(x, 0) # ReLU\n",
    "    # Output layer\n",
    "    x = np.matmul(output_layer_weight, x) + output_layer_bias # Output: W*x + b\n",
    "    # Log softmax\n",
    "    e_x = np.exp(x - np.max(x))\n",
    "    return np.log(e_x / e_x.sum())"
   ]
  },
  {
   "cell_type": "code",
   "execution_count": 79,
   "metadata": {},
   "outputs": [
    {
     "name": "stdout",
     "output_type": "stream",
     "text": [
      "All 100 tests passed!\n"
     ]
    }
   ],
   "source": [
    "num_tests = 100\n",
    "for i in range(num_tests):\n",
    "    fake_image_np = 10*np.random.rand(784)\n",
    "    fake_image_tnsr = torch.from_numpy(fake_image_np).float().view(1, 784)\n",
    "    pytorch_output = model(fake_image_tnsr).detach().numpy().squeeze()\n",
    "    numpy_output = evaluate_numpy_nn(fake_image_np)\n",
    "    np.testing.assert_allclose(pytorch_output, numpy_output, rtol=1e-03, equal_nan=False)\n",
    "print(\"All %d tests passed!\" % num_tests)"
   ]
  },
  {
   "cell_type": "markdown",
   "metadata": {},
   "source": [
    "## Test Camera Images\n",
    "Test the model on real images taken from the camera.\n",
    "\n",
    "There are 10 images, one for each digit 0...9."
   ]
  },
  {
   "cell_type": "markdown",
   "metadata": {},
   "source": [
    "Preprocessing, from JPG image to 28x28 downsampled, thresholded image:"
   ]
  },
  {
   "cell_type": "code",
   "execution_count": 218,
   "metadata": {},
   "outputs": [],
   "source": [
    "def preprocess_camera_image(jpg_path, black_threshold=.15, crop_margin=0.85):\n",
    "    # Open with PIL\n",
    "    with Image.open(jpg_path) as img_PIL:\n",
    "        # Crop (to square, remove timestamp)\n",
    "        width, height = img_PIL.size \n",
    "        target_size = crop_margin * height\n",
    "        leftright_margin = (width - target_size) / 2\n",
    "        topbottom_margin = (height - target_size) / 2\n",
    "        area = (leftright_margin, topbottom_margin, width-leftright_margin, \\\n",
    "                       height-topbottom_margin) # rescale to square and remove time stamp\n",
    "        img_PIL = img_PIL.crop(area)\n",
    "        # Convert to Numpy\n",
    "        img = np.asarray(img_PIL)\n",
    "    # Grayscale (by averaging channels)\n",
    "    img_gray = np.mean(img, axis=2)\n",
    "    # Treshold\n",
    "    minn = np.min(img_gray)\n",
    "    maxx = np.max(img_gray)\n",
    "    rng = maxx-minn\n",
    "    thresh = black_threshold * rng + minn\n",
    "    img_thresh = img_gray < thresh\n",
    "    # Downsample (using max)\n",
    "    img_small = block_reduce(img_thresh, block_size=(28, 28), func=np.max)[:28,:28]\n",
    "    return img_small"
   ]
  },
  {
   "cell_type": "markdown",
   "metadata": {},
   "source": [
    "Let's read in the images, preprocess them, and take a look:"
   ]
  },
  {
   "cell_type": "code",
   "execution_count": 219,
   "metadata": {},
   "outputs": [
    {
     "data": {
      "image/png": "[encoded data removed]",
      "text/plain": [
       "<Figure size 1080x1080 with 10 Axes>"
      ]
     },
     "metadata": {},
     "output_type": "display_data"
    }
   ],
   "source": [
    "real_images = []\n",
    "fig = plt.figure(figsize=(15,15))\n",
    "num_examples_rows = 5\n",
    "num_examples_cols = 2\n",
    "for r in range(num_examples_rows):\n",
    "    for c in range(num_examples_cols):\n",
    "        # Get image\n",
    "        digit = r*num_examples_cols + c\n",
    "        jpg_path = \"./data/real_images/%d.JPG\" % digit\n",
    "        image = preprocess_camera_image(jpg_path)\n",
    "        real_images.append(image)\n",
    "        # Plot\n",
    "        plt_idx = r*num_examples_cols + c + 1\n",
    "        plt.subplot(num_examples_rows, num_examples_cols, plt_idx)\n",
    "        plt.tight_layout()\n",
    "        plt.imshow(image, cmap='gray', interpolation='none')\n",
    "        plt.title(\"Ground Truth: {}\".format(digit))\n",
    "        plt.xticks([])\n",
    "        plt.yticks([])"
   ]
  },
  {
   "cell_type": "markdown",
   "metadata": {},
   "source": [
    "Now, let's see if our model correctly predicts the digits:"
   ]
  },
  {
   "cell_type": "code",
   "execution_count": 225,
   "metadata": {},
   "outputs": [
    {
     "name": "stdout",
     "output_type": "stream",
     "text": [
      "Succeeded predicting digit 0\n",
      "Succeeded predicting digit 1\n",
      "Succeeded predicting digit 2\n",
      "Succeeded predicting digit 3\n",
      "Succeeded predicting digit 4\n",
      "Succeeded predicting digit 5\n",
      "FAILED    predicting digit 6:  5\n",
      "Succeeded predicting digit 7\n",
      "Succeeded predicting digit 8\n",
      "FAILED    predicting digit 9:  4\n"
     ]
    }
   ],
   "source": [
    "for digit in range(10):\n",
    "    inpt = real_images[digit].flatten()\n",
    "    probabilities = evaluate_numpy_nn(inpt)\n",
    "    prediction = np.argmax(probabilities)\n",
    "    if prediction == digit:\n",
    "        print(\"Succeeded predicting digit %d\" % digit)\n",
    "    else:\n",
    "        print(\"FAILED    predicting digit %d:  %d\" % (digit, prediction))"
   ]
  }
 ],
 "metadata": {
  "kernelspec": {
   "display_name": "venv",
   "language": "python",
   "name": "venv"
  },
  "language_info": {
   "codemirror_mode": {
    "name": "ipython",
    "version": 3
   },
   "file_extension": ".py",
   "mimetype": "text/x-python",
   "name": "python",
   "nbconvert_exporter": "python",
   "pygments_lexer": "ipython3",
   "version": "3.7.5"
  }
 },
 "nbformat": 4,
 "nbformat_minor": 2
}
